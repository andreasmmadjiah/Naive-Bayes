{
 "cells": [
  {
   "cell_type": "markdown",
   "metadata": {
    "colab_type": "text",
    "id": "view-in-github"
   },
   "source": [
    "<a href=\"https://colab.research.google.com/github/arieframasyarif/Komputer-Naive-Bayes/blob/master/Komputer_Naive_Bayes.ipynb\" target=\"_parent\"><img src=\"https://colab.research.google.com/assets/colab-badge.svg\" alt=\"Open In Colab\"/></a>"
   ]
  },
  {
   "cell_type": "markdown",
   "metadata": {
    "colab_type": "text",
    "id": "t7fdZffbAz6x"
   },
   "source": [
    "**Create By Arif Rama Syarif  **\n",
    "\n",
    "Modified by Andreas Mulyarahardja"
   ]
  },
  {
   "cell_type": "code",
   "execution_count": 7,
   "metadata": {},
   "outputs": [
    {
     "name": "stdout",
     "output_type": "stream",
     "text": [
      "D:\\Program2\\NaiveBayesArif\n"
     ]
    }
   ],
   "source": [
    "cd D:/Program2/NaiveBayesArif"
   ]
  },
  {
   "cell_type": "code",
   "execution_count": 59,
   "metadata": {
    "colab": {
     "base_uri": "https://localhost:8080/",
     "height": 201
    },
    "colab_type": "code",
    "id": "xcDTbfA_a5mC",
    "outputId": "6332b298-d3de-40ad-c6bb-c38cbac6e401"
   },
   "outputs": [
    {
     "data": {
      "text/html": [
       "<div>\n",
       "<style scoped>\n",
       "    .dataframe tbody tr th:only-of-type {\n",
       "        vertical-align: middle;\n",
       "    }\n",
       "\n",
       "    .dataframe tbody tr th {\n",
       "        vertical-align: top;\n",
       "    }\n",
       "\n",
       "    .dataframe thead th {\n",
       "        text-align: right;\n",
       "    }\n",
       "</style>\n",
       "<table border=\"1\" class=\"dataframe\">\n",
       "  <thead>\n",
       "    <tr style=\"text-align: right;\">\n",
       "      <th></th>\n",
       "      <th>Usia</th>\n",
       "      <th>Pendapatan</th>\n",
       "      <th>Pelajar</th>\n",
       "      <th>Kredit</th>\n",
       "      <th>Label</th>\n",
       "    </tr>\n",
       "  </thead>\n",
       "  <tbody>\n",
       "    <tr>\n",
       "      <th>0</th>\n",
       "      <td>muda</td>\n",
       "      <td>tinggi</td>\n",
       "      <td>tidak</td>\n",
       "      <td>macet</td>\n",
       "      <td>tidak beli</td>\n",
       "    </tr>\n",
       "    <tr>\n",
       "      <th>1</th>\n",
       "      <td>muda</td>\n",
       "      <td>tinggi</td>\n",
       "      <td>tidak</td>\n",
       "      <td>lancar</td>\n",
       "      <td>tidak beli</td>\n",
       "    </tr>\n",
       "    <tr>\n",
       "      <th>2</th>\n",
       "      <td>tengah baya</td>\n",
       "      <td>tinggi</td>\n",
       "      <td>tidak</td>\n",
       "      <td>macet</td>\n",
       "      <td>beli</td>\n",
       "    </tr>\n",
       "    <tr>\n",
       "      <th>3</th>\n",
       "      <td>tua</td>\n",
       "      <td>sedang</td>\n",
       "      <td>tidak</td>\n",
       "      <td>macet</td>\n",
       "      <td>beli</td>\n",
       "    </tr>\n",
       "    <tr>\n",
       "      <th>4</th>\n",
       "      <td>tua</td>\n",
       "      <td>rendah</td>\n",
       "      <td>ya</td>\n",
       "      <td>macet</td>\n",
       "      <td>beli</td>\n",
       "    </tr>\n",
       "  </tbody>\n",
       "</table>\n",
       "</div>"
      ],
      "text/plain": [
       "          Usia Pendapatan  Pelajar Kredit        Label\n",
       "0         muda      tinggi   tidak   macet  tidak beli\n",
       "1         muda      tinggi   tidak  lancar  tidak beli\n",
       "2  tengah baya      tinggi   tidak   macet        beli\n",
       "3          tua      sedang   tidak   macet        beli\n",
       "4          tua      rendah      ya   macet        beli"
      ]
     },
     "execution_count": 59,
     "metadata": {},
     "output_type": "execute_result"
    }
   ],
   "source": [
    "#Explore dataset\n",
    "\n",
    "import pandas as pd\n",
    "import numpy as np\n",
    "\n",
    "df = pd.read_csv(\"Transaksi pembelian komputer -Training.csv\",delimiter=';')\n",
    "komputer = pd.DataFrame(df)\n",
    "komputer.head()\n"
   ]
  },
  {
   "cell_type": "markdown",
   "metadata": {
    "colab_type": "text",
    "id": "z4OxbrKaBigt"
   },
   "source": [
    "**LabelEncoder & OneHotEncoder**\n",
    "\n",
    "The labelEncoder and OneHotEncoder only works on categorical features. We need first to extract the categorial featuers using boolean mask."
   ]
  },
  {
   "cell_type": "code",
   "execution_count": 60,
   "metadata": {
    "colab": {},
    "colab_type": "code",
    "id": "ZKw22JfXjFSI"
   },
   "outputs": [],
   "source": [
    "# import labelencoder\n",
    "from sklearn.preprocessing import LabelEncoder\n",
    "# instantiate labelencoder object\n",
    "le = LabelEncoder()"
   ]
  },
  {
   "cell_type": "code",
   "execution_count": 61,
   "metadata": {
    "colab": {
     "base_uri": "https://localhost:8080/",
     "height": 201
    },
    "colab_type": "code",
    "id": "56T4p0CEjJ-Z",
    "outputId": "01ecfda7-d70e-4c45-9bcb-2454973975c8"
   },
   "outputs": [
    {
     "data": {
      "text/html": [
       "<div>\n",
       "<style scoped>\n",
       "    .dataframe tbody tr th:only-of-type {\n",
       "        vertical-align: middle;\n",
       "    }\n",
       "\n",
       "    .dataframe tbody tr th {\n",
       "        vertical-align: top;\n",
       "    }\n",
       "\n",
       "    .dataframe thead th {\n",
       "        text-align: right;\n",
       "    }\n",
       "</style>\n",
       "<table border=\"1\" class=\"dataframe\">\n",
       "  <thead>\n",
       "    <tr style=\"text-align: right;\">\n",
       "      <th></th>\n",
       "      <th>Usia</th>\n",
       "      <th>Pendapatan</th>\n",
       "      <th>Pelajar</th>\n",
       "      <th>Kredit</th>\n",
       "      <th>Label</th>\n",
       "    </tr>\n",
       "  </thead>\n",
       "  <tbody>\n",
       "    <tr>\n",
       "      <th>0</th>\n",
       "      <td>0</td>\n",
       "      <td>2</td>\n",
       "      <td>0</td>\n",
       "      <td>1</td>\n",
       "      <td>1</td>\n",
       "    </tr>\n",
       "    <tr>\n",
       "      <th>1</th>\n",
       "      <td>0</td>\n",
       "      <td>2</td>\n",
       "      <td>0</td>\n",
       "      <td>0</td>\n",
       "      <td>1</td>\n",
       "    </tr>\n",
       "    <tr>\n",
       "      <th>2</th>\n",
       "      <td>1</td>\n",
       "      <td>2</td>\n",
       "      <td>0</td>\n",
       "      <td>1</td>\n",
       "      <td>0</td>\n",
       "    </tr>\n",
       "    <tr>\n",
       "      <th>3</th>\n",
       "      <td>2</td>\n",
       "      <td>1</td>\n",
       "      <td>0</td>\n",
       "      <td>1</td>\n",
       "      <td>0</td>\n",
       "    </tr>\n",
       "    <tr>\n",
       "      <th>4</th>\n",
       "      <td>2</td>\n",
       "      <td>0</td>\n",
       "      <td>1</td>\n",
       "      <td>1</td>\n",
       "      <td>0</td>\n",
       "    </tr>\n",
       "  </tbody>\n",
       "</table>\n",
       "</div>"
      ],
      "text/plain": [
       "   Usia  Pendapatan   Pelajar  Kredit   Label\n",
       "0     0            2        0        1      1\n",
       "1     0            2        0        0      1\n",
       "2     1            2        0        1      0\n",
       "3     2            1        0        1      0\n",
       "4     2            0        1        1      0"
      ]
     },
     "execution_count": 61,
     "metadata": {},
     "output_type": "execute_result"
    }
   ],
   "source": [
    "categorical_cols=komputer.columns\n",
    "# apply le on categorical feature columns\n",
    "komputer[categorical_cols] = komputer[categorical_cols].apply(lambda col: le.fit_transform(col))\n",
    "komputer[categorical_cols].head()"
   ]
  },
  {
   "cell_type": "code",
   "execution_count": 62,
   "metadata": {
    "colab": {},
    "colab_type": "code",
    "id": "O1Cc8K2ak5nW"
   },
   "outputs": [],
   "source": [
    "from sklearn.model_selection import train_test_split\n",
    "from sklearn.naive_bayes import MultinomialNB"
   ]
  },
  {
   "cell_type": "code",
   "execution_count": 63,
   "metadata": {
    "colab": {
     "base_uri": "https://localhost:8080/",
     "height": 35
    },
    "colab_type": "code",
    "id": "cSRMIoLYlygU",
    "outputId": "a7833cb7-b6a4-4e0c-d208-6ad4bbb74a7d"
   },
   "outputs": [
    {
     "name": "stdout",
     "output_type": "stream",
     "text": [
      "Total features : 4\n"
     ]
    }
   ],
   "source": [
    "feature_names = list(komputer.columns)\n",
    "do_not_use_for_training = ['Label']\n",
    "\n",
    "feature_names = [f for f in komputer.columns if f not in do_not_use_for_training]\n",
    "\n",
    "print('Total features : {}'.format(len(feature_names)))\n",
    "\n",
    "komputer[feature_names].count()\n",
    "y = komputer['Label']"
   ]
  },
  {
   "cell_type": "code",
   "execution_count": 64,
   "metadata": {
    "colab": {},
    "colab_type": "code",
    "id": "hcw2loual8qb"
   },
   "outputs": [],
   "source": [
    "Xtr, Xv, ytr, yv = train_test_split(komputer[feature_names], y, test_size=0.3, random_state=1)"
   ]
  },
  {
   "cell_type": "markdown",
   "metadata": {
    "colab_type": "text",
    "id": "snKgU9e2Bu7K"
   },
   "source": [
    "**BUILD MODEL**"
   ]
  },
  {
   "cell_type": "code",
   "execution_count": 65,
   "metadata": {
    "colab": {},
    "colab_type": "code",
    "id": "knqllbXImNrZ"
   },
   "outputs": [],
   "source": [
    "naive_bayes = MultinomialNB()\n",
    "naive_bayes.fit(Xtr, ytr)\n",
    "predictions = naive_bayes.predict(Xv)"
   ]
  },
  {
   "cell_type": "markdown",
   "metadata": {
    "colab_type": "text",
    "id": "4KsMVdKfCfTz"
   },
   "source": [
    "**EVALUATION**"
   ]
  },
  {
   "cell_type": "code",
   "execution_count": 66,
   "metadata": {
    "colab": {
     "base_uri": "https://localhost:8080/",
     "height": 35
    },
    "colab_type": "code",
    "id": "6_Sq3Jicn-4-",
    "outputId": "3dda9823-88c1-41c2-eed8-d5265a314473"
   },
   "outputs": [
    {
     "data": {
      "text/plain": [
       "0.7777777777777778"
      ]
     },
     "execution_count": 66,
     "metadata": {},
     "output_type": "execute_result"
    }
   ],
   "source": [
    "#Training Score\n",
    "naive_bayes.score(Xtr, ytr)"
   ]
  },
  {
   "cell_type": "code",
   "execution_count": 67,
   "metadata": {
    "colab": {
     "base_uri": "https://localhost:8080/",
     "height": 35
    },
    "colab_type": "code",
    "id": "DmShEW8ToMoL",
    "outputId": "f5653fd3-3aad-4033-884a-07e35e536c88"
   },
   "outputs": [
    {
     "data": {
      "text/plain": [
       "0.6"
      ]
     },
     "execution_count": 67,
     "metadata": {},
     "output_type": "execute_result"
    }
   ],
   "source": [
    "#Testing Score\n",
    "naive_bayes.score(Xv, yv)"
   ]
  },
  {
   "cell_type": "markdown",
   "metadata": {
    "colab_type": "text",
    "id": "gWWEqdjGCwRl"
   },
   "source": [
    "**PREDICT DATA**"
   ]
  },
  {
   "cell_type": "code",
   "execution_count": 68,
   "metadata": {
    "colab": {},
    "colab_type": "code",
    "id": "B1doREG5oYVQ"
   },
   "outputs": [],
   "source": [
    "Xv['prediction'] = naive_bayes.predict(Xv)\n",
    "Xv['real_class'] = yv"
   ]
  },
  {
   "cell_type": "code",
   "execution_count": 69,
   "metadata": {
    "colab": {
     "base_uri": "https://localhost:8080/",
     "height": 201
    },
    "colab_type": "code",
    "id": "rtJUuqFBofGy",
    "outputId": "be6db64f-cc9c-45ef-a6d1-d600901a613f"
   },
   "outputs": [
    {
     "data": {
      "text/html": [
       "<div>\n",
       "<style scoped>\n",
       "    .dataframe tbody tr th:only-of-type {\n",
       "        vertical-align: middle;\n",
       "    }\n",
       "\n",
       "    .dataframe tbody tr th {\n",
       "        vertical-align: top;\n",
       "    }\n",
       "\n",
       "    .dataframe thead th {\n",
       "        text-align: right;\n",
       "    }\n",
       "</style>\n",
       "<table border=\"1\" class=\"dataframe\">\n",
       "  <thead>\n",
       "    <tr style=\"text-align: right;\">\n",
       "      <th></th>\n",
       "      <th>Usia</th>\n",
       "      <th>Pendapatan</th>\n",
       "      <th>Pelajar</th>\n",
       "      <th>Kredit</th>\n",
       "      <th>prediction</th>\n",
       "      <th>real_class</th>\n",
       "    </tr>\n",
       "  </thead>\n",
       "  <tbody>\n",
       "    <tr>\n",
       "      <th>3</th>\n",
       "      <td>2</td>\n",
       "      <td>1</td>\n",
       "      <td>0</td>\n",
       "      <td>1</td>\n",
       "      <td>0</td>\n",
       "      <td>0</td>\n",
       "    </tr>\n",
       "    <tr>\n",
       "      <th>7</th>\n",
       "      <td>0</td>\n",
       "      <td>1</td>\n",
       "      <td>0</td>\n",
       "      <td>1</td>\n",
       "      <td>0</td>\n",
       "      <td>1</td>\n",
       "    </tr>\n",
       "    <tr>\n",
       "      <th>6</th>\n",
       "      <td>1</td>\n",
       "      <td>0</td>\n",
       "      <td>1</td>\n",
       "      <td>0</td>\n",
       "      <td>0</td>\n",
       "      <td>0</td>\n",
       "    </tr>\n",
       "    <tr>\n",
       "      <th>2</th>\n",
       "      <td>1</td>\n",
       "      <td>2</td>\n",
       "      <td>0</td>\n",
       "      <td>1</td>\n",
       "      <td>1</td>\n",
       "      <td>0</td>\n",
       "    </tr>\n",
       "    <tr>\n",
       "      <th>10</th>\n",
       "      <td>0</td>\n",
       "      <td>1</td>\n",
       "      <td>1</td>\n",
       "      <td>0</td>\n",
       "      <td>0</td>\n",
       "      <td>0</td>\n",
       "    </tr>\n",
       "  </tbody>\n",
       "</table>\n",
       "</div>"
      ],
      "text/plain": [
       "    Usia  Pendapatan   Pelajar  Kredit   prediction  real_class\n",
       "3      2            1        0        1           0           0\n",
       "7      0            1        0        1           0           1\n",
       "6      1            0        1        0           0           0\n",
       "2      1            2        0        1           1           0\n",
       "10     0            1        1        0           0           0"
      ]
     },
     "execution_count": 69,
     "metadata": {},
     "output_type": "execute_result"
    }
   ],
   "source": [
    "Xv.head()\n"
   ]
  },
  {
   "cell_type": "markdown",
   "metadata": {
    "colab_type": "text",
    "id": "6Aodz4fUDJJ3"
   },
   "source": [
    "**SAVE THE MODEL AS FILE .pkl**"
   ]
  },
  {
   "cell_type": "code",
   "execution_count": 70,
   "metadata": {
    "colab": {},
    "colab_type": "code",
    "id": "_wPIc2fLomJu"
   },
   "outputs": [],
   "source": [
    "from sklearn.externals import joblib"
   ]
  },
  {
   "cell_type": "code",
   "execution_count": 71,
   "metadata": {
    "colab": {
     "base_uri": "https://localhost:8080/",
     "height": 35
    },
    "colab_type": "code",
    "id": "dKgZBo5Qopk0",
    "outputId": "50aa2659-a2d1-4772-9652-b3344efc5636"
   },
   "outputs": [
    {
     "data": {
      "text/plain": [
       "['Transaksi pembelian komputer.pkl']"
      ]
     },
     "execution_count": 71,
     "metadata": {},
     "output_type": "execute_result"
    }
   ],
   "source": [
    "joblib.dump(naive_bayes, 'Transaksi pembelian komputer.pkl')"
   ]
  },
  {
   "cell_type": "markdown",
   "metadata": {
    "colab_type": "text",
    "id": "qzlrWUiODVy5"
   },
   "source": [
    "**BATCH OF PREDIKSON**"
   ]
  },
  {
   "cell_type": "code",
   "execution_count": 72,
   "metadata": {
    "colab": {},
    "colab_type": "code",
    "id": "TJCjSMx9pKOa"
   },
   "outputs": [],
   "source": [
    "import pandas as pd\n",
    "from sklearn.model_selection import train_test_split\n",
    "from sklearn.ensemble import RandomForestClassifier\n",
    "from sklearn.externals import joblib"
   ]
  },
  {
   "cell_type": "markdown",
   "metadata": {
    "colab_type": "text",
    "id": "GyhsOKwLDeJh"
   },
   "source": [
    "**EXTRACT**"
   ]
  },
  {
   "cell_type": "code",
   "execution_count": 204,
   "metadata": {
    "colab": {
     "base_uri": "https://localhost:8080/",
     "height": 79
    },
    "colab_type": "code",
    "id": "DdzI0CpxpSU0",
    "outputId": "656d8391-2b54-4412-e4f2-5f60f16e7ec0"
   },
   "outputs": [
    {
     "data": {
      "text/html": [
       "<div>\n",
       "<style scoped>\n",
       "    .dataframe tbody tr th:only-of-type {\n",
       "        vertical-align: middle;\n",
       "    }\n",
       "\n",
       "    .dataframe tbody tr th {\n",
       "        vertical-align: top;\n",
       "    }\n",
       "\n",
       "    .dataframe thead th {\n",
       "        text-align: right;\n",
       "    }\n",
       "</style>\n",
       "<table border=\"1\" class=\"dataframe\">\n",
       "  <thead>\n",
       "    <tr style=\"text-align: right;\">\n",
       "      <th></th>\n",
       "      <th>Usia</th>\n",
       "      <th>Pendapatan</th>\n",
       "      <th>Pelajar</th>\n",
       "      <th>Kredit</th>\n",
       "    </tr>\n",
       "  </thead>\n",
       "  <tbody>\n",
       "    <tr>\n",
       "      <th>0</th>\n",
       "      <td>tua</td>\n",
       "      <td>tinggi</td>\n",
       "      <td>tidak</td>\n",
       "      <td>macet</td>\n",
       "    </tr>\n",
       "    <tr>\n",
       "      <th>1</th>\n",
       "      <td>tua</td>\n",
       "      <td>sedang</td>\n",
       "      <td>ya</td>\n",
       "      <td>lancar</td>\n",
       "    </tr>\n",
       "  </tbody>\n",
       "</table>\n",
       "</div>"
      ],
      "text/plain": [
       "  Usia Pendapatan  Pelajar Kredit \n",
       "0  tua      tinggi   tidak   macet\n",
       "1  tua      sedang      ya  lancar"
      ]
     },
     "execution_count": 204,
     "metadata": {},
     "output_type": "execute_result"
    }
   ],
   "source": [
    "df = pd.read_csv('Transaksi pembelian komputer -Testing.csv')\n",
    "testing_komputer = pd.DataFrame(df)\n",
    "testing_komputer=testing_komputer.append(pd.Series(['tua','sedang','ya','lancar'],index=testing_komputer.columns),ignore_index=True)\n",
    "testing_komputer.head()"
   ]
  },
  {
   "cell_type": "code",
   "execution_count": 205,
   "metadata": {},
   "outputs": [
    {
     "data": {
      "text/html": [
       "<div>\n",
       "<style scoped>\n",
       "    .dataframe tbody tr th:only-of-type {\n",
       "        vertical-align: middle;\n",
       "    }\n",
       "\n",
       "    .dataframe tbody tr th {\n",
       "        vertical-align: top;\n",
       "    }\n",
       "\n",
       "    .dataframe thead th {\n",
       "        text-align: right;\n",
       "    }\n",
       "</style>\n",
       "<table border=\"1\" class=\"dataframe\">\n",
       "  <thead>\n",
       "    <tr style=\"text-align: right;\">\n",
       "      <th></th>\n",
       "      <th>Usia</th>\n",
       "      <th>Pendapatan</th>\n",
       "      <th>Pelajar</th>\n",
       "      <th>Kredit</th>\n",
       "      <th>Label</th>\n",
       "    </tr>\n",
       "  </thead>\n",
       "  <tbody>\n",
       "    <tr>\n",
       "      <th>0</th>\n",
       "      <td>muda</td>\n",
       "      <td>tinggi</td>\n",
       "      <td>tidak</td>\n",
       "      <td>macet</td>\n",
       "      <td>tidak beli</td>\n",
       "    </tr>\n",
       "    <tr>\n",
       "      <th>1</th>\n",
       "      <td>muda</td>\n",
       "      <td>tinggi</td>\n",
       "      <td>tidak</td>\n",
       "      <td>lancar</td>\n",
       "      <td>tidak beli</td>\n",
       "    </tr>\n",
       "  </tbody>\n",
       "</table>\n",
       "</div>"
      ],
      "text/plain": [
       "   Usia Pendapatan  Pelajar Kredit        Label\n",
       "0  muda      tinggi   tidak   macet  tidak beli\n",
       "1  muda      tinggi   tidak  lancar  tidak beli"
      ]
     },
     "execution_count": 205,
     "metadata": {},
     "output_type": "execute_result"
    }
   ],
   "source": [
    "pd.read_csv(\"Transaksi pembelian komputer -Training.csv\",delimiter=';').head(2)"
   ]
  },
  {
   "cell_type": "markdown",
   "metadata": {
    "colab_type": "text",
    "id": "tP2dod9tDze1"
   },
   "source": [
    "**LabelEncoder & OneHotEncoder**\n",
    "\n",
    "The labelEncoder and OneHotEncoder only works on categorical features. We need first to extract the categorial featuers using boolean mask."
   ]
  },
  {
   "cell_type": "code",
   "execution_count": 206,
   "metadata": {
    "colab": {
     "base_uri": "https://localhost:8080/",
     "height": 79
    },
    "colab_type": "code",
    "id": "pSHHhVvSqzPh",
    "outputId": "72948087-f94b-4223-f678-b9d10a020f35"
   },
   "outputs": [
    {
     "data": {
      "text/html": [
       "<div>\n",
       "<style scoped>\n",
       "    .dataframe tbody tr th:only-of-type {\n",
       "        vertical-align: middle;\n",
       "    }\n",
       "\n",
       "    .dataframe tbody tr th {\n",
       "        vertical-align: top;\n",
       "    }\n",
       "\n",
       "    .dataframe thead th {\n",
       "        text-align: right;\n",
       "    }\n",
       "</style>\n",
       "<table border=\"1\" class=\"dataframe\">\n",
       "  <thead>\n",
       "    <tr style=\"text-align: right;\">\n",
       "      <th></th>\n",
       "      <th>Usia</th>\n",
       "      <th>Pendapatan</th>\n",
       "      <th>Pelajar</th>\n",
       "      <th>Kredit</th>\n",
       "    </tr>\n",
       "  </thead>\n",
       "  <tbody>\n",
       "    <tr>\n",
       "      <th>0</th>\n",
       "      <td>muda</td>\n",
       "      <td>tinggi</td>\n",
       "      <td>tidak</td>\n",
       "      <td>macet</td>\n",
       "    </tr>\n",
       "    <tr>\n",
       "      <th>1</th>\n",
       "      <td>muda</td>\n",
       "      <td>tinggi</td>\n",
       "      <td>tidak</td>\n",
       "      <td>lancar</td>\n",
       "    </tr>\n",
       "    <tr>\n",
       "      <th>2</th>\n",
       "      <td>tengah baya</td>\n",
       "      <td>tinggi</td>\n",
       "      <td>tidak</td>\n",
       "      <td>macet</td>\n",
       "    </tr>\n",
       "    <tr>\n",
       "      <th>3</th>\n",
       "      <td>tua</td>\n",
       "      <td>sedang</td>\n",
       "      <td>tidak</td>\n",
       "      <td>macet</td>\n",
       "    </tr>\n",
       "    <tr>\n",
       "      <th>4</th>\n",
       "      <td>tua</td>\n",
       "      <td>rendah</td>\n",
       "      <td>ya</td>\n",
       "      <td>macet</td>\n",
       "    </tr>\n",
       "    <tr>\n",
       "      <th>5</th>\n",
       "      <td>tua</td>\n",
       "      <td>rendah</td>\n",
       "      <td>ya</td>\n",
       "      <td>lancar</td>\n",
       "    </tr>\n",
       "    <tr>\n",
       "      <th>6</th>\n",
       "      <td>tengah baya</td>\n",
       "      <td>rendah</td>\n",
       "      <td>ya</td>\n",
       "      <td>lancar</td>\n",
       "    </tr>\n",
       "    <tr>\n",
       "      <th>7</th>\n",
       "      <td>muda</td>\n",
       "      <td>sedang</td>\n",
       "      <td>tidak</td>\n",
       "      <td>macet</td>\n",
       "    </tr>\n",
       "    <tr>\n",
       "      <th>8</th>\n",
       "      <td>muda</td>\n",
       "      <td>rendah</td>\n",
       "      <td>tidak</td>\n",
       "      <td>macet</td>\n",
       "    </tr>\n",
       "    <tr>\n",
       "      <th>9</th>\n",
       "      <td>tua</td>\n",
       "      <td>sedang</td>\n",
       "      <td>ya</td>\n",
       "      <td>macet</td>\n",
       "    </tr>\n",
       "    <tr>\n",
       "      <th>10</th>\n",
       "      <td>muda</td>\n",
       "      <td>sedang</td>\n",
       "      <td>ya</td>\n",
       "      <td>lancar</td>\n",
       "    </tr>\n",
       "    <tr>\n",
       "      <th>11</th>\n",
       "      <td>tengah baya</td>\n",
       "      <td>sedang</td>\n",
       "      <td>tidak</td>\n",
       "      <td>lancar</td>\n",
       "    </tr>\n",
       "    <tr>\n",
       "      <th>12</th>\n",
       "      <td>tengah baya</td>\n",
       "      <td>tinggi</td>\n",
       "      <td>ya</td>\n",
       "      <td>macet</td>\n",
       "    </tr>\n",
       "    <tr>\n",
       "      <th>13</th>\n",
       "      <td>tua</td>\n",
       "      <td>sedang</td>\n",
       "      <td>tidak</td>\n",
       "      <td>lancar</td>\n",
       "    </tr>\n",
       "    <tr>\n",
       "      <th>14</th>\n",
       "      <td>tua</td>\n",
       "      <td>tinggi</td>\n",
       "      <td>tidak</td>\n",
       "      <td>macet</td>\n",
       "    </tr>\n",
       "    <tr>\n",
       "      <th>15</th>\n",
       "      <td>tua</td>\n",
       "      <td>sedang</td>\n",
       "      <td>ya</td>\n",
       "      <td>lancar</td>\n",
       "    </tr>\n",
       "  </tbody>\n",
       "</table>\n",
       "</div>"
      ],
      "text/plain": [
       "           Usia Pendapatan  Pelajar Kredit \n",
       "0          muda      tinggi   tidak   macet\n",
       "1          muda      tinggi   tidak  lancar\n",
       "2   tengah baya      tinggi   tidak   macet\n",
       "3           tua      sedang   tidak   macet\n",
       "4           tua      rendah      ya   macet\n",
       "5           tua      rendah      ya  lancar\n",
       "6   tengah baya      rendah      ya  lancar\n",
       "7          muda      sedang   tidak   macet\n",
       "8          muda      rendah   tidak   macet\n",
       "9           tua      sedang      ya   macet\n",
       "10         muda      sedang      ya  lancar\n",
       "11  tengah baya      sedang   tidak  lancar\n",
       "12  tengah baya      tinggi      ya   macet\n",
       "13          tua      sedang   tidak  lancar\n",
       "14          tua      tinggi   tidak   macet\n",
       "15          tua      sedang      ya  lancar"
      ]
     },
     "execution_count": 206,
     "metadata": {},
     "output_type": "execute_result"
    }
   ],
   "source": [
    "# apply le on categorical feature columns\n",
    "categorical_cols=testing_komputer.columns\n",
    "com=pd.read_csv(\"Transaksi pembelian komputer -Training.csv\",delimiter=';').drop(columns='Label',axis=1)\n",
    "dum=com.append(testing_komputer,ignore_index=True)\n",
    "dum"
   ]
  },
  {
   "cell_type": "code",
   "execution_count": 207,
   "metadata": {},
   "outputs": [
    {
     "name": "stdout",
     "output_type": "stream",
     "text": [
      "   Usia  Pendapatan   Pelajar  Kredit   Label\n",
      "0     0            2        0        1      1\n",
      "1     0            2        0        0      1\n",
      "2     1            2        0        1      0\n",
      "3     2            1        0        1      0\n",
      "4     2            0        1        1      0\n"
     ]
    },
    {
     "data": {
      "text/html": [
       "<div>\n",
       "<style scoped>\n",
       "    .dataframe tbody tr th:only-of-type {\n",
       "        vertical-align: middle;\n",
       "    }\n",
       "\n",
       "    .dataframe tbody tr th {\n",
       "        vertical-align: top;\n",
       "    }\n",
       "\n",
       "    .dataframe thead th {\n",
       "        text-align: right;\n",
       "    }\n",
       "</style>\n",
       "<table border=\"1\" class=\"dataframe\">\n",
       "  <thead>\n",
       "    <tr style=\"text-align: right;\">\n",
       "      <th></th>\n",
       "      <th>Usia</th>\n",
       "      <th>Pendapatan</th>\n",
       "      <th>Pelajar</th>\n",
       "      <th>Kredit</th>\n",
       "    </tr>\n",
       "  </thead>\n",
       "  <tbody>\n",
       "    <tr>\n",
       "      <th>0</th>\n",
       "      <td>0</td>\n",
       "      <td>2</td>\n",
       "      <td>0</td>\n",
       "      <td>1</td>\n",
       "    </tr>\n",
       "    <tr>\n",
       "      <th>1</th>\n",
       "      <td>0</td>\n",
       "      <td>2</td>\n",
       "      <td>0</td>\n",
       "      <td>0</td>\n",
       "    </tr>\n",
       "    <tr>\n",
       "      <th>2</th>\n",
       "      <td>1</td>\n",
       "      <td>2</td>\n",
       "      <td>0</td>\n",
       "      <td>1</td>\n",
       "    </tr>\n",
       "    <tr>\n",
       "      <th>3</th>\n",
       "      <td>2</td>\n",
       "      <td>1</td>\n",
       "      <td>0</td>\n",
       "      <td>1</td>\n",
       "    </tr>\n",
       "    <tr>\n",
       "      <th>4</th>\n",
       "      <td>2</td>\n",
       "      <td>0</td>\n",
       "      <td>1</td>\n",
       "      <td>1</td>\n",
       "    </tr>\n",
       "    <tr>\n",
       "      <th>5</th>\n",
       "      <td>2</td>\n",
       "      <td>0</td>\n",
       "      <td>1</td>\n",
       "      <td>0</td>\n",
       "    </tr>\n",
       "    <tr>\n",
       "      <th>6</th>\n",
       "      <td>1</td>\n",
       "      <td>0</td>\n",
       "      <td>1</td>\n",
       "      <td>0</td>\n",
       "    </tr>\n",
       "    <tr>\n",
       "      <th>7</th>\n",
       "      <td>0</td>\n",
       "      <td>1</td>\n",
       "      <td>0</td>\n",
       "      <td>1</td>\n",
       "    </tr>\n",
       "    <tr>\n",
       "      <th>8</th>\n",
       "      <td>0</td>\n",
       "      <td>0</td>\n",
       "      <td>0</td>\n",
       "      <td>1</td>\n",
       "    </tr>\n",
       "    <tr>\n",
       "      <th>9</th>\n",
       "      <td>2</td>\n",
       "      <td>1</td>\n",
       "      <td>1</td>\n",
       "      <td>1</td>\n",
       "    </tr>\n",
       "    <tr>\n",
       "      <th>10</th>\n",
       "      <td>0</td>\n",
       "      <td>1</td>\n",
       "      <td>1</td>\n",
       "      <td>0</td>\n",
       "    </tr>\n",
       "    <tr>\n",
       "      <th>11</th>\n",
       "      <td>1</td>\n",
       "      <td>1</td>\n",
       "      <td>0</td>\n",
       "      <td>0</td>\n",
       "    </tr>\n",
       "    <tr>\n",
       "      <th>12</th>\n",
       "      <td>1</td>\n",
       "      <td>2</td>\n",
       "      <td>1</td>\n",
       "      <td>1</td>\n",
       "    </tr>\n",
       "    <tr>\n",
       "      <th>13</th>\n",
       "      <td>2</td>\n",
       "      <td>1</td>\n",
       "      <td>0</td>\n",
       "      <td>0</td>\n",
       "    </tr>\n",
       "    <tr>\n",
       "      <th>14</th>\n",
       "      <td>2</td>\n",
       "      <td>2</td>\n",
       "      <td>0</td>\n",
       "      <td>1</td>\n",
       "    </tr>\n",
       "    <tr>\n",
       "      <th>15</th>\n",
       "      <td>2</td>\n",
       "      <td>1</td>\n",
       "      <td>1</td>\n",
       "      <td>0</td>\n",
       "    </tr>\n",
       "  </tbody>\n",
       "</table>\n",
       "</div>"
      ],
      "text/plain": [
       "    Usia  Pendapatan   Pelajar  Kredit \n",
       "0      0            2        0        1\n",
       "1      0            2        0        0\n",
       "2      1            2        0        1\n",
       "3      2            1        0        1\n",
       "4      2            0        1        1\n",
       "5      2            0        1        0\n",
       "6      1            0        1        0\n",
       "7      0            1        0        1\n",
       "8      0            0        0        1\n",
       "9      2            1        1        1\n",
       "10     0            1        1        0\n",
       "11     1            1        0        0\n",
       "12     1            2        1        1\n",
       "13     2            1        0        0\n",
       "14     2            2        0        1\n",
       "15     2            1        1        0"
      ]
     },
     "execution_count": 207,
     "metadata": {},
     "output_type": "execute_result"
    }
   ],
   "source": [
    "categorical_cols=dum.columns\n",
    "# apply le on categorical feature columns\n",
    "dum[categorical_cols] =dum[categorical_cols].apply(lambda col : le.fit_transform(col))\n",
    "print(komputer.head())\n",
    "dum"
   ]
  },
  {
   "cell_type": "code",
   "execution_count": 208,
   "metadata": {},
   "outputs": [],
   "source": [
    "testing_komputer=dum.iloc[-2:,:]"
   ]
  },
  {
   "cell_type": "markdown",
   "metadata": {
    "colab_type": "text",
    "id": "AboOCpVhD89W"
   },
   "source": [
    "**TRANSFORM**"
   ]
  },
  {
   "cell_type": "code",
   "execution_count": 209,
   "metadata": {
    "colab": {},
    "colab_type": "code",
    "id": "ETi4Bpf_pcbX"
   },
   "outputs": [],
   "source": [
    "naive_bayes_model_load = joblib.load('Transaksi pembelian komputer.pkl')"
   ]
  },
  {
   "cell_type": "code",
   "execution_count": 210,
   "metadata": {
    "colab": {},
    "colab_type": "code",
    "id": "TKeyh0E5prGY"
   },
   "outputs": [
    {
     "name": "stderr",
     "output_type": "stream",
     "text": [
      "C:\\Users\\andrea064120\\AppData\\Local\\Continuum\\anaconda3\\lib\\site-packages\\ipykernel_launcher.py:2: SettingWithCopyWarning: \n",
      "A value is trying to be set on a copy of a slice from a DataFrame.\n",
      "Try using .loc[row_indexer,col_indexer] = value instead\n",
      "\n",
      "See the caveats in the documentation: http://pandas.pydata.org/pandas-docs/stable/indexing.html#indexing-view-versus-copy\n",
      "  \n"
     ]
    }
   ],
   "source": [
    "\n",
    "testing_komputer['prediction'] = naive_bayes_model_load.predict(testing_komputer)"
   ]
  },
  {
   "cell_type": "code",
   "execution_count": 211,
   "metadata": {
    "colab": {
     "base_uri": "https://localhost:8080/",
     "height": 79
    },
    "colab_type": "code",
    "id": "lYFvowZXrJvH",
    "outputId": "c8fb0f83-2817-4340-94ec-7ad4e4ade1d3"
   },
   "outputs": [
    {
     "name": "stderr",
     "output_type": "stream",
     "text": [
      "C:\\Users\\andrea064120\\AppData\\Local\\Continuum\\anaconda3\\lib\\site-packages\\ipykernel_launcher.py:2: SettingWithCopyWarning: \n",
      "A value is trying to be set on a copy of a slice from a DataFrame.\n",
      "Try using .loc[row_indexer,col_indexer] = value instead\n",
      "\n",
      "See the caveats in the documentation: http://pandas.pydata.org/pandas-docs/stable/indexing.html#indexing-view-versus-copy\n",
      "  \n"
     ]
    }
   ],
   "source": [
    "testing_komputer.head()\n",
    "testing_komputer['prediction']=np.where(testing_komputer['prediction']==1,'tidak beli','beli')"
   ]
  },
  {
   "cell_type": "code",
   "execution_count": 201,
   "metadata": {},
   "outputs": [
    {
     "data": {
      "text/plain": [
       "{'beli': 0, 'tidak beli': 1}"
      ]
     },
     "execution_count": 201,
     "metadata": {},
     "output_type": "execute_result"
    }
   ],
   "source": [
    "a=pd.read_csv(\"Transaksi pembelian komputer -Training.csv\",delimiter=';')['Label']\n",
    "a=le.fit_transform(a)\n",
    "{l: i for i, l in enumerate(le.classes_)}"
   ]
  },
  {
   "cell_type": "markdown",
   "metadata": {
    "colab_type": "text",
    "id": "2FmUeFMXEEbS"
   },
   "source": [
    "**LOAD**"
   ]
  },
  {
   "cell_type": "code",
   "execution_count": 28,
   "metadata": {
    "colab": {},
    "colab_type": "code",
    "id": "E-ydFvQ5sAbE"
   },
   "outputs": [],
   "source": [
    "testing_komputer.to_csv(\"Hasil Klasifikasi pembelian komputer.csv\", sep=',',index=False)"
   ]
  },
  {
   "cell_type": "code",
   "execution_count": 212,
   "metadata": {},
   "outputs": [
    {
     "data": {
      "text/plain": [
       "{'lancar': 0, 'macet': 1}"
      ]
     },
     "execution_count": 212,
     "metadata": {},
     "output_type": "execute_result"
    }
   ],
   "source": []
  },
  {
   "cell_type": "code",
   "execution_count": null,
   "metadata": {},
   "outputs": [],
   "source": []
  }
 ],
 "metadata": {
  "colab": {
   "collapsed_sections": [],
   "include_colab_link": true,
   "name": "Komputer-Naive Bayes.ipynb",
   "provenance": [],
   "version": "0.3.2"
  },
  "kernelspec": {
   "display_name": "Python 3",
   "language": "python",
   "name": "python3"
  },
  "language_info": {
   "codemirror_mode": {
    "name": "ipython",
    "version": 3
   },
   "file_extension": ".py",
   "mimetype": "text/x-python",
   "name": "python",
   "nbconvert_exporter": "python",
   "pygments_lexer": "ipython3",
   "version": "3.6.4"
  }
 },
 "nbformat": 4,
 "nbformat_minor": 1
}
